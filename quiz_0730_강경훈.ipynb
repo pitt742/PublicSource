{
 "cells": [
  {
   "cell_type": "code",
   "execution_count": 1,
   "metadata": {
    "scrolled": true
   },
   "outputs": [],
   "source": [
    "import tensorflow as tf\n",
    "sess = tf.InteractiveSession()"
   ]
  },
  {
   "cell_type": "markdown",
   "metadata": {},
   "source": [
    "# Quiz 1: Cross-boundary anchors\n",
    "    \n",
    "![alt text](bbox_clip.jpg \"Title\")\n",
    "\n",
    "### complete clip operations so that 'clib_boxes_graph' function operates as follows\n",
    "<br>\n",
    "#clipped = clip_boxes_graph(boxes, window) <br>\n",
    "#sess.run(clipped) <br>\n",
    "array([[  0,   0, 300, 300], <br>\n",
    "      [250, 250, 450, 450], <br>\n",
    "      [500, 600, 599, 700]], dtype=int32)"
   ]
  },
  {
   "cell_type": "code",
   "execution_count": 2,
   "metadata": {},
   "outputs": [],
   "source": [
    "def clip_boxes_graph(boxes, window): \n",
    "    \"\"\" \n",
    "    boxes: [N, 4] where N boxes are specified in the form (y1, x1, y2, x2) \n",
    "    window: [4] in the form y1, x1, y2, x2 \n",
    "    \"\"\"\n",
    "\n",
    "    # Split\n",
    "    wy1, wx1, wy2, wx2 = tf.split(window, 4)\n",
    "    y1, x1, y2, x2 = tf.split(boxes, 4, axis=1)\n",
    "    # implement clip operation using min / max operation #\n",
    "    # tf.clip_by_value 사용\n",
    "    # if -> tf.cond 사용\n",
    "    \n",
    "    y1 = tf.maximum(y1, wy1)\n",
    "    x1 = tf.maximum(x1, wx1)\n",
    "    \n",
    "    y2 = tf.minimum(y2, wy2)\n",
    "    x2 = tf.minimum(x2, wx2)\n",
    "\n",
    "    clipped = tf.concat([y1, x1, y2, x2], axis=1, name=\"clipped_boxes\")\n",
    "    clipped.set_shape((clipped.shape[0], 4))\n",
    "    return clipped"
   ]
  },
  {
   "cell_type": "code",
   "execution_count": 3,
   "metadata": {},
   "outputs": [],
   "source": [
    "window = tf.constant([0,0,599,799])\n",
    "boxes = tf.constant([[-10, -10, 300, 300],\n",
    "                     [250, 250, 450, 450],\n",
    "                     [500, 600, 800, 700]])"
   ]
  },
  {
   "cell_type": "code",
   "execution_count": 4,
   "metadata": {},
   "outputs": [],
   "source": [
    "clipped = clip_boxes_graph(boxes, window)"
   ]
  },
  {
   "cell_type": "code",
   "execution_count": 5,
   "metadata": {},
   "outputs": [
    {
     "data": {
      "text/plain": [
       "array([[  0,   0, 300, 300],\n",
       "       [250, 250, 450, 450],\n",
       "       [500, 600, 599, 700]])"
      ]
     },
     "execution_count": 5,
     "metadata": {},
     "output_type": "execute_result"
    }
   ],
   "source": [
    "sess.run(clipped)"
   ]
  },
  {
   "cell_type": "markdown",
   "metadata": {},
   "source": [
    "---"
   ]
  },
  {
   "cell_type": "markdown",
   "metadata": {},
   "source": [
    "# Quiz 2: NMS(non-maximum suppression)\n",
    "\n",
    "![alt text](nms.jpg \"Title\")\n",
    "\n",
    "### insert values of \"scores\" tensor so that nms function outputs <br>\n",
    "\n",
    "#sess.run(proposals) <br>\n",
    "array([[  1.,   1., 298., 299.]], dtype=float32)"
   ]
  },
  {
   "cell_type": "code",
   "execution_count": 6,
   "metadata": {},
   "outputs": [],
   "source": [
    "# hint: https://www.tensorflow.org/api_docs/python/tf/image/non_max_suppression?hl=en\n",
    "def nms(boxes, scores):\n",
    "    indices = tf.image.non_max_suppression(\n",
    "        boxes, scores, 1, name=\"rpn_nms\")\n",
    "    proposals = tf.gather(boxes, indices)\n",
    "    \n",
    "    # Pad if needed\n",
    "    padding = tf.maximum(1-tf.shape(proposals)[0], 0)\n",
    "    proposals = tf.pad(proposals, [(0, padding), (0, 0)])\n",
    "    return proposals"
   ]
  },
  {
   "cell_type": "code",
   "execution_count": 7,
   "metadata": {},
   "outputs": [],
   "source": [
    "boxes = tf.constant([[0., 0., 300., 300.],\n",
    "                     [0., 0., 301., 299.],\n",
    "                     [1., 1., 298., 299.]])\n",
    "scores = tf.constant([0., 0., 1.])"
   ]
  },
  {
   "cell_type": "code",
   "execution_count": 8,
   "metadata": {},
   "outputs": [],
   "source": [
    "proposals = nms(boxes, scores)"
   ]
  },
  {
   "cell_type": "code",
   "execution_count": 9,
   "metadata": {},
   "outputs": [
    {
     "data": {
      "text/plain": [
       "array([[  1.,   1., 298., 299.]], dtype=float32)"
      ]
     },
     "execution_count": 9,
     "metadata": {},
     "output_type": "execute_result"
    }
   ],
   "source": [
    "sess.run(proposals)"
   ]
  },
  {
   "cell_type": "markdown",
   "metadata": {},
   "source": [
    "---"
   ]
  },
  {
   "cell_type": "markdown",
   "metadata": {},
   "source": [
    "# Quiz 3: Smooth L1 Loss\n",
    "\n",
    "![alt text](smooth_l1.JPG \"Title\")\n",
    "\n",
    "### implement Smooth L1 Loss"
   ]
  },
  {
   "cell_type": "code",
   "execution_count": 72,
   "metadata": {},
   "outputs": [],
   "source": [
    "def smooth_l1_loss(prediction, target):\n",
    "    prediction = tf.to_float(prediction)\n",
    "    target = tf.to_float(target)\n",
    "    \n",
    "    # implement smooth_l1_loss calculating code below\n",
    "    ads_diff = tf.abs(tf.subtract(prediction, target))\n",
    "    def result1():\n",
    "        return tf.multiply(0.5, tf.square(ads_diff))\n",
    "    def result2():\n",
    "        return tf.subtract(ads_diff,0.5)\n",
    "    loss = tf.cond(tf.less(ads_diff,1.0), result1, result2)\n",
    "  \n",
    "    return loss"
   ]
  },
  {
   "cell_type": "code",
   "execution_count": 73,
   "metadata": {},
   "outputs": [],
   "source": [
    "prediction1 = tf.constant(3)\n",
    "target1 = tf.constant(5)\n",
    "loss1 = smooth_l1_loss(prediction1, target1)\n",
    "\n",
    "prediction2 = tf.constant(3)\n",
    "target2 = tf.constant(3.1)\n",
    "loss2 = smooth_l1_loss(prediction2, target2)"
   ]
  },
  {
   "cell_type": "code",
   "execution_count": 74,
   "metadata": {},
   "outputs": [
    {
     "data": {
      "text/plain": [
       "[1.5, 0.0049999906]"
      ]
     },
     "execution_count": 74,
     "metadata": {},
     "output_type": "execute_result"
    }
   ],
   "source": [
    "sess.run([loss1, loss2])"
   ]
  },
  {
   "cell_type": "markdown",
   "metadata": {},
   "source": [
    "----"
   ]
  },
  {
   "cell_type": "markdown",
   "metadata": {},
   "source": [
    "# Quiz 4: Binary Cross-Entropy Loss\n",
    "\n",
    "![alt text](bce.jpg \"Title\")"
   ]
  },
  {
   "cell_type": "code",
   "execution_count": 78,
   "metadata": {},
   "outputs": [],
   "source": [
    "def binary_cross_entropy_loss(prediction, target, eps=1e-9):\n",
    "    '''\n",
    "    prediction : (N, 2)-shaped, float tensor\n",
    "    target : (N)-shaped, float tensor\n",
    "    eps : very small number for numerical stability\n",
    "    '''\n",
    "    # implement BCE here\n",
    "    # log 내 eps 값을 더해준다.\n",
    "    loss = -1 * target * tf.log(prediction + eps) - (1 - target) * tf.log((1 - prediction) + eps)\n",
    "    return loss"
   ]
  },
  {
   "cell_type": "code",
   "execution_count": 79,
   "metadata": {},
   "outputs": [],
   "source": [
    "prediction1 = tf.constant(1.)\n",
    "target1 = tf.constant(1.)\n",
    "loss1 = binary_cross_entropy_loss(prediction1, target1)\n",
    "\n",
    "prediction2 = tf.constant(0.)\n",
    "target2 = tf.constant(1.)\n",
    "loss2 = binary_cross_entropy_loss(prediction2, target2)\n",
    "\n",
    "prediction3 = tf.constant(0.8)\n",
    "target3 = tf.constant(1.0)\n",
    "loss3 = binary_cross_entropy_loss(prediction3, target3)"
   ]
  },
  {
   "cell_type": "code",
   "execution_count": 80,
   "metadata": {},
   "outputs": [
    {
     "data": {
      "text/plain": [
       "[0.0, 20.723267, 0.22314353]"
      ]
     },
     "execution_count": 80,
     "metadata": {},
     "output_type": "execute_result"
    }
   ],
   "source": [
    "sess.run([loss1, loss2, loss3])"
   ]
  },
  {
   "cell_type": "markdown",
   "metadata": {},
   "source": [
    "---"
   ]
  },
  {
   "cell_type": "markdown",
   "metadata": {},
   "source": [
    "# Quiz 5: IoU (Intersection-over-Union)\n",
    "\n",
    "![alt text](iou.jpg \"Title\")"
   ]
  },
  {
   "cell_type": "code",
   "execution_count": 84,
   "metadata": {},
   "outputs": [],
   "source": [
    "def iou(box1, box2):\n",
    "    '''\n",
    "    box1 : (4)-shaped float tensor. (b1_y1, b1_x1, b1_y2, b1_x2)\n",
    "    box2 : (4)-shaped float tensor. (b2_y1, b2_x1, b2_y2, b2_x2)\n",
    "    '''\n",
    "    \n",
    "    b1_y1, b1_x1, b1_y2, b1_x2 = tf.split(box1, 4)\n",
    "    b2_y1, b2_x1, b2_y2, b2_x2 = tf.split(box2, 4)\n",
    "    \n",
    "    # implement iou here  \n",
    "    intersection = tf.abs(b1_x2 - b2_x1) * tf.abs(b1_y2 - b2_y1)\n",
    "    box1_area = tf.abs(b1_x2 - b1_x1) * tf.abs(b1_y2 - b1_y1)\n",
    "    box2_area = tf.abs(b2_x2 - b2_x1) * tf.abs(b2_y2 - b2_y1)\n",
    "    union = box1_area + box2_area - intersection\n",
    "    \n",
    "    score = intersection/union\n",
    "    return score"
   ]
  },
  {
   "cell_type": "code",
   "execution_count": 85,
   "metadata": {},
   "outputs": [],
   "source": [
    "box1 = tf.constant([0.,0.,300.,300.])\n",
    "box2 = tf.constant([100.,100.,400.,400.])"
   ]
  },
  {
   "cell_type": "code",
   "execution_count": 86,
   "metadata": {},
   "outputs": [],
   "source": [
    "overlap_score = iou(box1, box2)"
   ]
  },
  {
   "cell_type": "code",
   "execution_count": 87,
   "metadata": {},
   "outputs": [
    {
     "data": {
      "text/plain": [
       "array([0.2857143], dtype=float32)"
      ]
     },
     "execution_count": 87,
     "metadata": {},
     "output_type": "execute_result"
    }
   ],
   "source": [
    "sess.run(overlap_score)"
   ]
  },
  {
   "cell_type": "markdown",
   "metadata": {},
   "source": [
    "# Quiz 6 : Bbox refinement via regression\n",
    "\n",
    "![alt text](bbox_regression.jpg \"Title\")"
   ]
  },
  {
   "cell_type": "code",
   "execution_count": 92,
   "metadata": {},
   "outputs": [],
   "source": [
    "def refine_bbox(anchor_box, regression):\n",
    "    '''\n",
    "    anchor_box : (4)-shaped anchor bbox coordinates (y1, x1, y2, x2) 초록색 박스\n",
    "    regression : (4)-shaped regressed parameter for bbox refinement (dy, dx, sy, sx) 붉은색 박스 - 위치평행이동, 크기늘리기\n",
    "    '''\n",
    "    y1, x1, y2, x2 = tf.split(anchor_box, 4)\n",
    "    dy, dx, sy, sx = tf.split(regression, 4)\n",
    "    \n",
    "    # implement refine code here\n",
    "    h = tf.abs(y2 - y1) * sy\n",
    "    w = tf.abs(x2 - x1) * sx\n",
    "    \n",
    "    new_y1 = y1 + dy\n",
    "    new_x1 = x1 + dx\n",
    "    new_y2 = new_y1 + h\n",
    "    new_x2 = new_x1 + w\n",
    "    \n",
    "    refined_box = tf.concat([new_y1, new_x1, new_y2, new_x2], axis=0)\n",
    "    return refined_box    "
   ]
  },
  {
   "cell_type": "code",
   "execution_count": 93,
   "metadata": {},
   "outputs": [],
   "source": [
    "anchor_box = tf.constant([0.,0.,300.,300.])\n",
    "regression = tf.constant([5, 5, 0.5, 0.5])"
   ]
  },
  {
   "cell_type": "code",
   "execution_count": 94,
   "metadata": {},
   "outputs": [],
   "source": [
    "refined_box = refine_bbox(anchor_box, regression)"
   ]
  },
  {
   "cell_type": "code",
   "execution_count": 95,
   "metadata": {},
   "outputs": [
    {
     "data": {
      "text/plain": [
       "array([  5.,   5., 155., 155.], dtype=float32)"
      ]
     },
     "execution_count": 95,
     "metadata": {},
     "output_type": "execute_result"
    }
   ],
   "source": [
    "sess.run(refined_box)"
   ]
  },
  {
   "cell_type": "code",
   "execution_count": null,
   "metadata": {},
   "outputs": [],
   "source": []
  }
 ],
 "metadata": {
  "kernelspec": {
   "display_name": "Python 3",
   "language": "python",
   "name": "python3"
  },
  "language_info": {
   "codemirror_mode": {
    "name": "ipython",
    "version": 3
   },
   "file_extension": ".py",
   "mimetype": "text/x-python",
   "name": "python",
   "nbconvert_exporter": "python",
   "pygments_lexer": "ipython3",
   "version": "3.7.3"
  }
 },
 "nbformat": 4,
 "nbformat_minor": 2
}
