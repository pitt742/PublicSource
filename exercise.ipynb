{
 "cells": [
  {
   "cell_type": "markdown",
   "metadata": {},
   "source": [
    "# Tensorflow Matrix Math Exercises"
   ]
  },
  {
   "cell_type": "code",
   "execution_count": 5,
   "metadata": {},
   "outputs": [],
   "source": [
    "import tensorflow as tf\n",
    "import numpy as np"
   ]
  },
  {
   "cell_type": "code",
   "execution_count": 6,
   "metadata": {},
   "outputs": [],
   "source": [
    "sess = tf.InteractiveSession()"
   ]
  },
  {
   "cell_type": "markdown",
   "metadata": {},
   "source": [
    "NOTE on notation\n",
    "* _x, _y, _z, ...: NumPy 0-d or 1-d arrays\n",
    "* _X, _Y, _Z, ...: NumPy 2-d or higer dimensional arrays\n",
    "* x, y, z, ...: 0-d or 1-d tensors\n",
    "* X, Y, Z, ...: 2-d or higher dimensional tensors"
   ]
  },
  {
   "cell_type": "markdown",
   "metadata": {},
   "source": [
    "## Matrix Math Functions"
   ]
  },
  {
   "cell_type": "markdown",
   "metadata": {},
   "source": [
    "Q1. Create a diagonal tensor with the diagonal values of x."
   ]
  },
  {
   "cell_type": "code",
   "execution_count": 12,
   "metadata": {},
   "outputs": [
    {
     "name": "stdout",
     "output_type": "stream",
     "text": [
      "[[1 0 0 0]\n",
      " [0 2 0 0]\n",
      " [0 0 3 0]\n",
      " [0 0 0 4]]\n"
     ]
    }
   ],
   "source": [
    "_x = np.array([1, 2, 3, 4])\n",
    "x = tf.convert_to_tensor(_x)\n",
    "X = tf.diag(x)   \n",
    "print(X.eval())"
   ]
  },
  {
   "cell_type": "markdown",
   "metadata": {},
   "source": [
    "Q2. Extract the diagonal of X."
   ]
  },
  {
   "cell_type": "code",
   "execution_count": 66,
   "metadata": {},
   "outputs": [
    {
     "name": "stdout",
     "output_type": "stream",
     "text": [
      "[1 2 3 4]\n"
     ]
    }
   ],
   "source": [
    "_X = np.array(\n",
    "[[1, 0, 0, 0],\n",
    " [0, 2, 0, 0],\n",
    " [0, 0, 3, 0],\n",
    " [0, 0, 0, 4]])\n",
    "X = tf.convert_to_tensor(_X)\n",
    "#_y = np.array([[1, 1, 1, 1]])\n",
    "#y = tf.convert_to_tensor(_y)\n",
    "#y = tf.transpose(y)\n",
    "#x = tf.matmul(X,y)\n",
    "#x = tf.transpose(x)\n",
    "x = tf.matrix_diag_part(X)\n",
    "print(x.eval())"
   ]
  },
  {
   "cell_type": "markdown",
   "metadata": {},
   "source": [
    "Q3. Permutate the dimensions of x such that the new tensor has shape (3, 4, 2)."
   ]
  },
  {
   "cell_type": "code",
   "execution_count": 62,
   "metadata": {},
   "outputs": [
    {
     "name": "stdout",
     "output_type": "stream",
     "text": [
      "(3, 4, 2)\n"
     ]
    }
   ],
   "source": [
    "_X = np.random.rand(2,3,4)\n",
    "X = tf.convert_to_tensor(_X)\n",
    "X = tf.transpose(X, perm=[1, 2, 0])\n",
    "print(tf.dimension_value(X).shape)"
   ]
  },
  {
   "cell_type": "markdown",
   "metadata": {},
   "source": [
    "Q4. Construct a 3 by 3 identity matrix."
   ]
  },
  {
   "cell_type": "code",
   "execution_count": 72,
   "metadata": {},
   "outputs": [
    {
     "name": "stdout",
     "output_type": "stream",
     "text": [
      "[[1. 0. 0.]\n",
      " [0. 1. 0.]\n",
      " [0. 0. 1.]]\n"
     ]
    }
   ],
   "source": [
    "_x = np.array([1., 1., 1.])\n",
    "x = tf.convert_to_tensor(_x)\n",
    "X = tf.diag(x)   \n",
    "print(X.eval())"
   ]
  },
  {
   "cell_type": "markdown",
   "metadata": {},
   "source": [
    "Q5. Predict the result of this."
   ]
  },
  {
   "cell_type": "code",
   "execution_count": 65,
   "metadata": {},
   "outputs": [
    {
     "name": "stdout",
     "output_type": "stream",
     "text": [
      "diagonal_tensor =\n",
      " [[[1 0 0 0]\n",
      "  [0 2 0 0]\n",
      "  [0 0 3 0]\n",
      "  [0 0 0 4]]\n",
      "\n",
      " [[5 0 0 0]\n",
      "  [0 6 0 0]\n",
      "  [0 0 7 0]\n",
      "  [0 0 0 8]]]\n",
      "diagonal_part =\n",
      " [[1 2 3 4]\n",
      " [5 6 7 8]]\n"
     ]
    }
   ],
   "source": [
    "_X = np.array([[1, 2, 3, 4], [5, 6, 7, 8]])\n",
    "X = tf.convert_to_tensor(_X)\n",
    "\n",
    "diagonal_tensor = tf.matrix_diag(X)\n",
    "diagonal_part = tf.matrix_diag_part(diagonal_tensor)\n",
    "\n",
    "print(\"diagonal_tensor =\\n\", diagonal_tensor.eval())\n",
    "print(\"diagonal_part =\\n\", diagonal_part.eval())\n"
   ]
  },
  {
   "cell_type": "markdown",
   "metadata": {},
   "source": [
    "Q6. Transpose the last two dimensions of X."
   ]
  },
  {
   "cell_type": "code",
   "execution_count": 69,
   "metadata": {},
   "outputs": [
    {
     "name": "stdout",
     "output_type": "stream",
     "text": [
      "(1, 2, 4, 3)\n"
     ]
    }
   ],
   "source": [
    "_X= np.random.rand(1, 2, 3, 4)\n",
    "X = tf.convert_to_tensor(_X)\n",
    "X = tf.transpose(X, perm=[0,1,3,2])\n",
    "print(tf.dimension_value(X).shape)"
   ]
  },
  {
   "cell_type": "markdown",
   "metadata": {},
   "source": [
    "Q7. Multiply X by Y."
   ]
  },
  {
   "cell_type": "code",
   "execution_count": 70,
   "metadata": {},
   "outputs": [
    {
     "name": "stdout",
     "output_type": "stream",
     "text": [
      "[[14 14]\n",
      " [32 32]]\n"
     ]
    }
   ],
   "source": [
    "_X = np.array([[1, 2, 3], [4, 5, 6]])\n",
    "_Y = np.array([[1, 1], [2, 2], [3, 3]])\n",
    "X = tf.convert_to_tensor(_X)\n",
    "Y = tf.convert_to_tensor(_Y)\n",
    "Z = tf.matmul(X,Y)\n",
    "print(Z.eval())\n"
   ]
  },
  {
   "cell_type": "markdown",
   "metadata": {},
   "source": [
    "Q8. Multiply X and Y. The first axis represents batches."
   ]
  },
  {
   "cell_type": "code",
   "execution_count": 8,
   "metadata": {},
   "outputs": [
    {
     "name": "stdout",
     "output_type": "stream",
     "text": [
      "[[[ 94 100]\n",
      "  [229 244]]\n",
      "\n",
      " [[508 532]\n",
      "  [697 730]]]\n"
     ]
    }
   ],
   "source": [
    "_X = np.arange(1, 13, dtype=np.int32).reshape((2, 2, 3))\n",
    "_Y = np.arange(13, 25, dtype=np.int32).reshape((2, 3, 2))\n",
    "X = tf.convert_to_tensor(_X)\n",
    "Y = tf.convert_to_tensor(_Y)\n",
    "Z = tf.matmul(X, Y)\n",
    "print(Z.eval())"
   ]
  },
  {
   "cell_type": "markdown",
   "metadata": {},
   "source": [
    "Q9. Compute the determinant of X."
   ]
  },
  {
   "cell_type": "code",
   "execution_count": 89,
   "metadata": {},
   "outputs": [
    {
     "name": "stdout",
     "output_type": "stream",
     "text": [
      "-2.0\n"
     ]
    }
   ],
   "source": [
    "_X = np.arange(1, 5, dtype=np.float32).reshape((2, 2))\n",
    "X = tf.convert_to_tensor(_X)\n",
    "z = tf.matrix_determinant(X)\n",
    "print(z.eval())\n"
   ]
  },
  {
   "cell_type": "markdown",
   "metadata": {},
   "source": [
    "Q10. Compute the inverse of X.\n"
   ]
  },
  {
   "cell_type": "code",
   "execution_count": 7,
   "metadata": {},
   "outputs": [
    {
     "name": "stdout",
     "output_type": "stream",
     "text": [
      "[[-2.   1. ]\n",
      " [ 1.5 -0.5]]\n"
     ]
    }
   ],
   "source": [
    "_X = np.arange(1, 5, dtype=np.float64).reshape((2, 2))\n",
    "X = tf.convert_to_tensor(_X)\n",
    "X = tf.matrix_inverse(X)\n",
    "print(X.eval())"
   ]
  },
  {
   "cell_type": "code",
   "execution_count": null,
   "metadata": {},
   "outputs": [],
   "source": []
  }
 ],
 "metadata": {
  "anaconda-cloud": {},
  "kernelspec": {
   "display_name": "Python 3",
   "language": "python",
   "name": "python3"
  },
  "language_info": {
   "codemirror_mode": {
    "name": "ipython",
    "version": 3
   },
   "file_extension": ".py",
   "mimetype": "text/x-python",
   "name": "python",
   "nbconvert_exporter": "python",
   "pygments_lexer": "ipython3",
   "version": "3.7.3"
  }
 },
 "nbformat": 4,
 "nbformat_minor": 1
}
